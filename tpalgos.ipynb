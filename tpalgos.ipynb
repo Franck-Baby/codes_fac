{
 "cells": [
  {
   "cell_type": "code",
   "execution_count": 1,
   "id": "2db94e6b-a6ea-47f4-9157-af859abca7e4",
   "metadata": {},
   "outputs": [],
   "source": [
    "import math\n"
   ]
  },
  {
   "cell_type": "code",
   "execution_count": 103,
   "id": "52c8728e-52ef-4184-8ca4-ae364073418d",
   "metadata": {},
   "outputs": [
    {
     "name": "stdout",
     "output_type": "stream",
     "text": [
      "Soit une fonction f définie sur un intervalle [a;b]\n"
     ]
    },
    {
     "name": "stdin",
     "output_type": "stream",
     "text": [
      "Entrez la valeur de a :  1\n",
      "Entrez la valeur de b :  2\n",
      "Entrez la valeur seuil e :  0.1\n",
      "Veuillez entrer votre fonction, en fonction de x  x**2 - 2\n"
     ]
    },
    {
     "name": "stdout",
     "output_type": "stream",
     "text": [
      " x =  1.0 \n",
      " y =  2.0 \n",
      " S =  1.0\n",
      "\n",
      " Les valeurs des images sont : \n",
      "f( 1.0 ) =  -1.0\n",
      "f( 1.0 ) *  f( 2.0 ) =  -2.0  et  |y-x| =  1.0\n",
      " x =  1.0 \n",
      " y =  1.5 \n",
      " S =  1.5\n",
      "f( 1.0 ) *  f( 1.5 ) =  -0.25  et  |y-x| =  0.5\n",
      " x =  1.25 \n",
      " y =  1.5 \n",
      " S =  1.25\n",
      "f( 1.25 ) *  f( 1.5 ) =  -0.109375  et  |y-x| =  0.25\n",
      " x =  1.375 \n",
      " y =  1.5 \n",
      " S =  1.375\n",
      "f( 1.375 ) *  f( 1.5 ) =  -0.02734375  et  |y-x| =  0.125\n",
      " x =  1.375 \n",
      " y =  1.4375 \n",
      " S =  1.4375\n",
      "\n",
      "\n",
      " On a en fin : \n",
      "f( 1.375 ) *  f( 1.4375 ) =  -0.00726318359375  et  |y-x| =  0.0625\n",
      " x =  1.375 \n",
      " y =  1.4375 \n",
      " S =  1.4375\n",
      "\n",
      " OUFF!! Terminé... \n",
      "La valeur approchée de votre fonction à 0.1 près est : 1.4375\n",
      "None\n"
     ]
    }
   ],
   "source": [
    "\n",
    "\n",
    "\n",
    "#Définition de notre fonction principale\n",
    "def Balayage():\n",
    "\n",
    "    \n",
    "    #Partie où l'utilisateur devra entrer les diverses valeurs qu'utilisera notre fonction principale  \n",
    "    print(\"Soit une fonction f définie sur un intervalle [a;b]\")\n",
    "    a = float(input(\"Entrez la valeur de a : \"))\n",
    "    b = float(input(\"Entrez la valeur de b : \"))\n",
    "    e = float(input(\"Entrez la valeur seuil e : \"))\n",
    "    \n",
    "    \n",
    "    x = a ;\n",
    "    y = b ;\n",
    "    S = x ;\n",
    "\n",
    "\n",
    "\n",
    "    #Définition de la fonction qui demandera à l'utilisateur d'entrer l'expression de sa fonction\n",
    "    def donner_fonct():\n",
    "        f = input(\"Veuillez entrer votre fonction, en fonction de x \")\n",
    "        return lambda x: eval(f)\n",
    "\n",
    "\n",
    "    \n",
    "     \n",
    "    f = donner_fonct() #Stackage de la fonction entrée par l'ulisateur dans la variable f \n",
    "\n",
    "    print(\" \\nx = \", x,\"\\n y = \", y, \"\\n S = \", S)\n",
    "    \n",
    "    print(\"\\n Les valeurs des images sont : \\nf(\",x,\") = \", f(x))  #Affichage des valeurs de f(x) \n",
    "    \n",
    "    if f(x)== 0 :\n",
    "        S = y\n",
    "        print(\" x = \", x,\"\\n y = \", y, \"\\n S = \", S)\n",
    "\n",
    "    \n",
    "    while ((abs(y-x) >= e) and ( f(x)*f(y)< 0)): #La boucle \"Tantque\" avec les différentes conditions\n",
    "        \n",
    "        print(\"f(\",x,\") *  f(\",y,\") = \", f(x)*f(y),\" et  |y-x| = \",abs(y-x) )\n",
    "        S = (x+y)/2\n",
    "        \n",
    "        if (f(x)*f(S) < 0):\n",
    "            y = S\n",
    "            \n",
    "        else:\n",
    "            x = S\n",
    "        print(\" x = \", x,\"\\n y = \", y, \"\\n S = \", S)\n",
    "\n",
    "\n",
    "    print(\"\\n\\n On a en fin : \")\n",
    "    print(\"f(\",x,\") *  f(\",y,\") = \", f(x)*f(y),\" et  |y-x| = \",abs(y-x) )\n",
    "    print(\" x = \", x,\"\\n y = \", y, \"\\n S = \", S)\n",
    "        \n",
    "    return print(\"\\n OUFF!! Terminé... \\nLa valeur approchée de votre fonction à\", e ,\"près est :\", S); # On retourne la valeur de S\n",
    "\n",
    "print(Balayage()) # Affichage du resultat final retouné par la fonction principale\n",
    "\n",
    "\n"
   ]
  },
  {
   "cell_type": "code",
   "execution_count": 101,
   "id": "6c8760c9-157d-40d0-977b-a811459e5c9d",
   "metadata": {},
   "outputs": [
    {
     "name": "stdin",
     "output_type": "stream",
     "text": [
      "Entrez la valeur initiale de u  :   1\n",
      "Entrez la valeur du seuil de précision :   0.001\n"
     ]
    },
    {
     "name": "stdout",
     "output_type": "stream",
     "text": [
      "\n",
      "Initialement on a :  u =  1.0  et S =  1.0\n"
     ]
    },
    {
     "name": "stdin",
     "output_type": "stream",
     "text": [
      "Entrez votre fonction en fonction de u (exemple: u**2 - 6u + 4):   u**2 - 2\n",
      "Entrez la dérrivée de votre fonction  :   2*u\n"
     ]
    },
    {
     "name": "stdout",
     "output_type": "stream",
     "text": [
      "\n",
      " En suite S =  1.5\n",
      "Der_F( 1.5 ) =  3.0  et |S-u| =  0.5\n",
      "u =  1.5\n",
      "Calcul de la nouvelle valeur de S\n",
      "la nouvelle valeur de S =  1.4166666666666667 \n",
      "\n",
      "Der_F( 1.4166666666666667 ) =  2.8333333333333335  et |S-u| =  0.08333333333333326\n",
      "u =  1.4166666666666667\n",
      "Calcul de la nouvelle valeur de S\n",
      "la nouvelle valeur de S =  1.4142156862745099 \n",
      "\n",
      "Der_F( 1.4142156862745099 ) =  2.8284313725490198  et |S-u| =  0.002450980392156854\n",
      "u =  1.4142156862745099\n",
      "Calcul de la nouvelle valeur de S\n",
      "la nouvelle valeur de S =  1.4142135623746899 \n",
      "\n",
      " \n",
      "On a en fin   :  u =  1.4142156862745099 ;   S =  1.4142135623746899 ; avec Der_F( 1.4142135623746899 ) =  2.8284271247493797   et  |S-u| =  2.123899820016817e-06\n",
      " \n",
      "\n",
      "\n",
      "                       La valeur approchée de votre fonction à  0.001  près est : S =  1.4142135623746899\n",
      "None\n"
     ]
    }
   ],
   "source": [
    "\n",
    "\n",
    "\n",
    "#On défini notre fonction principale 'Newton'\n",
    "def Newton():\n",
    "\n",
    "#Partie pour demander à l'utilisateur d'entrer les valeurs nécessaires     \n",
    "    u = float(input(\"Entrez la valeur initiale de u  :  \"))\n",
    "    E = float(input(\"Entrez la valeur du seuil de précision :  \"))\n",
    "    S = u;\n",
    "    print(\"\\nInitialement on a :  u = \",u,\" et S = \", S)\n",
    "#On écris maintenant des fonctions pour demander à l'utilisateur d'entrer l'expression de sa fonction\n",
    "    def Entrer_fonction(): \n",
    "        F = input(\"Entrez votre fonction en fonction de u (exemple: u**2 - 6u + 4):  \")\n",
    "        return lambda u: eval(F)\n",
    "\n",
    "# De même, on demande à l'ulisateur d'entrer l'expression de la dérrivée de sa fonction \n",
    "    def Entrer_der():\n",
    "        Der_F = input(\"Entrez la dérrivée de votre fonction  :  \")\n",
    "        return lambda u: eval(Der_F)\n",
    "            \n",
    "#Ici on affecte les valeurs de la fonction puis celle de sa dérrivée correspondente respectivement à F et Der_F entrées par l'utilisateur\n",
    "    F = Entrer_fonction()\n",
    "    Der_F = Entrer_der()\n",
    "    \n",
    "            \n",
    "    if (Der_F(u) != 0 ) :\n",
    "        S = u - (F(u)/Der_F(u)) # calcul du terme suivant de U\n",
    "    \n",
    "    print(\"\\n En suite S = \", S)\n",
    "    while ( (Der_F(S) != 0) and (abs(S-u) >= E ) ): # La structure tantque pour faire les test sur la dérrivée de f et la velur absolue de (s-u)\n",
    "        print(\"Der_F(\",S,\") = \", Der_F(S), \" et |S-u| = \", abs(S-u) )\n",
    "\n",
    "        u = S\n",
    "        print(\"u = \", u)\n",
    "        print(\"Calcul de la nouvelle valeur de S\")\n",
    "        S =u - (F(u)/Der_F(u))\n",
    "        print(\"la nouvelle valeur de S = \", S,\"\\n\")\n",
    "        \n",
    "        \n",
    "    print(\" \\nOn a en fin   :  u = \", u, \";   S = \", S, \"; avec Der_F(\",S,\") = \", Der_F(S), \"  et  |S-u| = \", abs(S-u))\n",
    "    \n",
    "    return print( \" \\n\\n\\n                       La valeur approchée de votre fonction à \",E,\" près est : S = \", S); # Retour du résultat final \n",
    "\n",
    "print(Newton())# Affichage final\n"
   ]
  },
  {
   "cell_type": "code",
   "execution_count": null,
   "id": "86df0cd5-50da-4ae0-9153-c56124ee98b6",
   "metadata": {},
   "outputs": [],
   "source": []
  }
 ],
 "metadata": {
  "kernelspec": {
   "display_name": "Python 3 (ipykernel)",
   "language": "python",
   "name": "python3"
  },
  "language_info": {
   "codemirror_mode": {
    "name": "ipython",
    "version": 3
   },
   "file_extension": ".py",
   "mimetype": "text/x-python",
   "name": "python",
   "nbconvert_exporter": "python",
   "pygments_lexer": "ipython3",
   "version": "3.12.4"
  }
 },
 "nbformat": 4,
 "nbformat_minor": 5
}
